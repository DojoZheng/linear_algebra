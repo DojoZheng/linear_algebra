{
 "cells": [
  {
   "cell_type": "code",
   "execution_count": 29,
   "metadata": {
    "collapsed": true
   },
   "outputs": [],
   "source": [
    "# 任意选一个你喜欢的整数，这能帮你得到稳定的结果\n",
    "seed = 9999"
   ]
  },
  {
   "cell_type": "markdown",
   "metadata": {},
   "source": [
    "# 欢迎来到线性回归项目\n",
    "\n",
    "若项目中的题目有困难没完成也没关系，我们鼓励你带着问题提交项目，评审人会给予你诸多帮助。\n",
    "\n",
    "所有选做题都可以不做，不影响项目通过。如果你做了，那么项目评审会帮你批改，也会因为选做部分做错而判定为不通过。\n",
    "\n",
    "其中非代码题可以提交手写后扫描的 pdf 文件，或使用 Latex 在文档中直接回答。"
   ]
  },
  {
   "cell_type": "markdown",
   "metadata": {},
   "source": [
    "# 1 矩阵运算\n",
    "\n",
    "## 1.1 创建一个 4*4 的单位矩阵"
   ]
  },
  {
   "cell_type": "code",
   "execution_count": 5,
   "metadata": {},
   "outputs": [
    {
     "name": "stdout",
     "output_type": "stream",
     "text": [
      "[[1, 0, 0, 0], [0, 1, 0, 0], [0, 0, 1, 0], [0, 0, 0, 1]]\n"
     ]
    }
   ],
   "source": [
    "# 这个项目设计来帮你熟悉 python list 和线性代数\n",
    "# 你不能调用任何NumPy以及相关的科学计算库来完成作业\n",
    "\n",
    "\n",
    "# 本项目要求矩阵统一使用二维列表表示，如下：\n",
    "A = [[1,2,3], \n",
    "     [2,3,3], \n",
    "     [1,2,5]]\n",
    "\n",
    "B = [[1,2,3,5], \n",
    "     [2,3,3,5], \n",
    "     [1,2,5,1]]\n",
    "\n",
    "#TODO 创建一个 4*4 单位矩阵\n",
    "def get_MxN_Matrix(m,n,x):\n",
    "    return [[x for i in range(m)] for j in range(n)]\n",
    "\n",
    "dimension = 4\n",
    "matrix = get_MxN_Matrix(4,4,0)\n",
    "for i in xrange(dimension):\n",
    "    matrix[i][i] = 1\n",
    "print matrix"
   ]
  },
  {
   "cell_type": "markdown",
   "metadata": {},
   "source": [
    "## 1.2 返回矩阵的行数和列数"
   ]
  },
  {
   "cell_type": "code",
   "execution_count": 6,
   "metadata": {
    "collapsed": true
   },
   "outputs": [],
   "source": [
    "# TODO 返回矩阵的行数和列数\n",
    "def shape(M):\n",
    "    rows = len(M)\n",
    "    cols = len(M[0])\n",
    "    return rows, cols\n"
   ]
  },
  {
   "cell_type": "code",
   "execution_count": 7,
   "metadata": {},
   "outputs": [
    {
     "name": "stderr",
     "output_type": "stream",
     "text": [
      ".\n",
      "----------------------------------------------------------------------\n",
      "Ran 1 test in 0.002s\n",
      "\n",
      "OK\n"
     ]
    }
   ],
   "source": [
    "# 运行以下代码测试你的 shape 函数\n",
    "%run -i -e test.py LinearRegressionTestCase.test_shape"
   ]
  },
  {
   "cell_type": "markdown",
   "metadata": {},
   "source": [
    "## 1.3 每个元素四舍五入到特定小数数位"
   ]
  },
  {
   "cell_type": "code",
   "execution_count": 8,
   "metadata": {
    "collapsed": true
   },
   "outputs": [],
   "source": [
    "# TODO 每个元素四舍五入到特定小数数位\n",
    "# 直接修改参数矩阵，无返回值\n",
    "def matxRound(M, decPts=4):\n",
    "    rowLen = len(M)\n",
    "    for i in xrange(rowLen):\n",
    "        colLen = len(M[i])\n",
    "        for j in xrange(colLen):\n",
    "            rounded_element = round(M[i][j], decPts)\n",
    "            M[i][j] = rounded_element\n",
    "    "
   ]
  },
  {
   "cell_type": "code",
   "execution_count": 9,
   "metadata": {},
   "outputs": [
    {
     "name": "stderr",
     "output_type": "stream",
     "text": [
      ".\n",
      "----------------------------------------------------------------------\n",
      "Ran 1 test in 0.105s\n",
      "\n",
      "OK\n"
     ]
    }
   ],
   "source": [
    "# 运行以下代码测试你的 matxRound 函数\n",
    "%run -i -e test.py LinearRegressionTestCase.test_matxRound"
   ]
  },
  {
   "cell_type": "markdown",
   "metadata": {},
   "source": [
    "## 1.4 计算矩阵的转置"
   ]
  },
  {
   "cell_type": "code",
   "execution_count": 3,
   "metadata": {
    "collapsed": true
   },
   "outputs": [],
   "source": [
    "# TODO 计算矩阵的转置\n",
    "def get_MxN_Matrix(m,n,x):\n",
    "    return [[x for i in range(m)] for j in range(n)]\n",
    "\n",
    "def transpose(M):\n",
    "    rows = len(M)\n",
    "    cols = len(M[0])\n",
    "    t_M = get_MxN_Matrix(rows, cols, 0)\n",
    "    for row in xrange(cols):\n",
    "        for col in xrange(rows):\n",
    "             t_M[row][col] = M[col][row]\n",
    "                \n",
    "    return t_M"
   ]
  },
  {
   "cell_type": "code",
   "execution_count": 4,
   "metadata": {},
   "outputs": [
    {
     "name": "stderr",
     "output_type": "stream",
     "text": [
      ".\n",
      "----------------------------------------------------------------------\n",
      "Ran 1 test in 0.024s\n",
      "\n",
      "OK\n"
     ]
    }
   ],
   "source": [
    "# 运行以下代码测试你的 transpose 函数\n",
    "%run -i -e test.py LinearRegressionTestCase.test_transpose"
   ]
  },
  {
   "cell_type": "markdown",
   "metadata": {},
   "source": [
    "## 1.5 计算矩阵乘法 AB"
   ]
  },
  {
   "cell_type": "code",
   "execution_count": 5,
   "metadata": {
    "collapsed": true
   },
   "outputs": [],
   "source": [
    "# TODO 计算矩阵乘法 AB，如果无法相乘则raise ValueError\n",
    "def get_MxN_Matrix(m,n,x):\n",
    "    return [[x for i in range(m)] for j in range(n)]\n",
    "\n",
    "def matxMultiply(A, B):\n",
    "    rows_A = len(A)\n",
    "    cols_A = len(A[0])\n",
    "    rows_B = len(B)\n",
    "    cols_B = len(B[0]) \n",
    "    \n",
    "    if (cols_A != rows_B):\n",
    "        raise ValueError\n",
    "    \n",
    "    # Solution 1\n",
    "#     AB = get_MxN_Matrix(cols_B, rows_A, 0)\n",
    "#     for row in xrange(rows_A):\n",
    "#         for col in xrange(cols_B):\n",
    "#             for index in xrange(cols_A):\n",
    "#                 AB[row][col] += A[row][index]*B[index][col]\n",
    "             \n",
    "    # Solution 2\n",
    "    AB = [[(sum(a*b for a,b in zip(tuple_A, tuple_B))) \n",
    "           for tuple_B in zip(*B)] \n",
    "              for tuple_A in A]\n",
    "    \n",
    "    return AB"
   ]
  },
  {
   "cell_type": "code",
   "execution_count": 6,
   "metadata": {},
   "outputs": [
    {
     "name": "stderr",
     "output_type": "stream",
     "text": [
      ".\n",
      "----------------------------------------------------------------------\n",
      "Ran 1 test in 0.113s\n",
      "\n",
      "OK\n"
     ]
    }
   ],
   "source": [
    "# 运行以下代码测试你的 matxMultiply 函数\n",
    "%run -i -e test.py LinearRegressionTestCase.test_matxMultiply"
   ]
  },
  {
   "cell_type": "markdown",
   "metadata": {},
   "source": [
    "---\n",
    "\n",
    "# 2 Gaussign Jordan 消元法\n",
    "\n",
    "## 2.1 构造增广矩阵\n",
    "\n",
    "$ A = \\begin{bmatrix}\n",
    "    a_{11}    & a_{12} & ... & a_{1n}\\\\\n",
    "    a_{21}    & a_{22} & ... & a_{2n}\\\\\n",
    "    a_{31}    & a_{22} & ... & a_{3n}\\\\\n",
    "    ...    & ... & ... & ...\\\\\n",
    "    a_{n1}    & a_{n2} & ... & a_{nn}\\\\\n",
    "\\end{bmatrix} , b = \\begin{bmatrix}\n",
    "    b_{1}  \\\\\n",
    "    b_{2}  \\\\\n",
    "    b_{3}  \\\\\n",
    "    ...    \\\\\n",
    "    b_{n}  \\\\\n",
    "\\end{bmatrix}$\n",
    "\n",
    "返回 $ Ab = \\begin{bmatrix}\n",
    "    a_{11}    & a_{12} & ... & a_{1n} & b_{1}\\\\\n",
    "    a_{21}    & a_{22} & ... & a_{2n} & b_{2}\\\\\n",
    "    a_{31}    & a_{22} & ... & a_{3n} & b_{3}\\\\\n",
    "    ...    & ... & ... & ...& ...\\\\\n",
    "    a_{n1}    & a_{n2} & ... & a_{nn} & b_{n} \\end{bmatrix}$"
   ]
  },
  {
   "cell_type": "code",
   "execution_count": 7,
   "metadata": {
    "collapsed": true
   },
   "outputs": [],
   "source": [
    "# TODO 构造增广矩阵，假设A，b行数相同\n",
    "def get_MxN_Matrix(m,n,x):\n",
    "    return [[x for i in range(m)] for j in range(n)]\n",
    "\n",
    "import copy\n",
    "\n",
    "def augmentMatrix(A, b):\n",
    "    # Solution 1: Running Time = 0.013s\n",
    "    rows = len(A)\n",
    "    cols = len(A[0]) + len(b[0])\n",
    "    Ab = get_MxN_Matrix(cols, rows, 0)\n",
    "    for i in xrange(rows):\n",
    "        for j in xrange(cols):\n",
    "            if j==(cols-1):\n",
    "                Ab[i][j] = b[i][0]\n",
    "            else:\n",
    "                Ab[i][j] = A[i][j]\n",
    "    \n",
    "    # Solution 2: Running Time = 0.026s\n",
    "#     Ab = copy.deepcopy(A)\n",
    "#     for i in xrange(len(Ab)):\n",
    "#         Ab[i].append(b[i][0])\n",
    "    \n",
    "    return Ab"
   ]
  },
  {
   "cell_type": "code",
   "execution_count": 8,
   "metadata": {},
   "outputs": [
    {
     "name": "stderr",
     "output_type": "stream",
     "text": [
      ".\n",
      "----------------------------------------------------------------------\n",
      "Ran 1 test in 0.012s\n",
      "\n",
      "OK\n"
     ]
    }
   ],
   "source": [
    "# 运行以下代码测试你的 augmentMatrix 函数\n",
    "%run -i -e test.py LinearRegressionTestCase.test_augmentMatrix"
   ]
  },
  {
   "cell_type": "markdown",
   "metadata": {},
   "source": [
    "## 2.2 初等行变换\n",
    "- 交换两行\n",
    "- 把某行乘以一个非零常数\n",
    "- 把某行加上另一行的若干倍："
   ]
  },
  {
   "cell_type": "code",
   "execution_count": 9,
   "metadata": {
    "collapsed": true
   },
   "outputs": [],
   "source": [
    "# TODO r1 <---> r2\n",
    "# 直接修改参数矩阵，无返回值\n",
    "def swapRows(M, r1, r2):\n",
    "    l = M[r1]\n",
    "    M[r1] = M[r2]\n",
    "    M[r2] = l"
   ]
  },
  {
   "cell_type": "code",
   "execution_count": 10,
   "metadata": {},
   "outputs": [
    {
     "name": "stderr",
     "output_type": "stream",
     "text": [
      ".\n",
      "----------------------------------------------------------------------\n",
      "Ran 1 test in 0.004s\n",
      "\n",
      "OK\n"
     ]
    }
   ],
   "source": [
    "# 运行以下代码测试你的 swapRows 函数\n",
    "%run -i -e test.py LinearRegressionTestCase.test_swapRows"
   ]
  },
  {
   "cell_type": "code",
   "execution_count": 11,
   "metadata": {
    "collapsed": true
   },
   "outputs": [],
   "source": [
    "# TODO r1 <--- r1 * scale\n",
    "# scale为0是非法输入，要求 raise ValueError\n",
    "# 直接修改参数矩阵，无返回值\n",
    "def scaleRow(M, r, scale):\n",
    "    if scale == 0:\n",
    "        raise ValueError\n",
    "        \n",
    "    for i in xrange(len(M[r])):\n",
    "        M[r][i] *= scale"
   ]
  },
  {
   "cell_type": "code",
   "execution_count": 12,
   "metadata": {},
   "outputs": [
    {
     "name": "stderr",
     "output_type": "stream",
     "text": [
      ".\n",
      "----------------------------------------------------------------------\n",
      "Ran 1 test in 0.003s\n",
      "\n",
      "OK\n"
     ]
    }
   ],
   "source": [
    "# 运行以下代码测试你的 scaleRow 函数\n",
    "%run -i -e test.py LinearRegressionTestCase.test_scaleRow"
   ]
  },
  {
   "cell_type": "code",
   "execution_count": 13,
   "metadata": {
    "collapsed": true
   },
   "outputs": [],
   "source": [
    "# TODO r1 <--- r1 + r2*scale\n",
    "# 直接修改参数矩阵，无返回值\n",
    "def addScaledRow(M, r1, r2, scale):\n",
    "    if scale == 0:\n",
    "        raise ValueError\n",
    "        \n",
    "    for i in xrange(len(M[r1])):\n",
    "        M[r1][i] += M[r2][i]*scale"
   ]
  },
  {
   "cell_type": "code",
   "execution_count": 14,
   "metadata": {},
   "outputs": [
    {
     "name": "stderr",
     "output_type": "stream",
     "text": [
      ".\n",
      "----------------------------------------------------------------------\n",
      "Ran 1 test in 0.003s\n",
      "\n",
      "OK\n"
     ]
    }
   ],
   "source": [
    "# 运行以下代码测试你的 addScaledRow 函数\n",
    "%run -i -e test.py LinearRegressionTestCase.test_addScaledRow"
   ]
  },
  {
   "cell_type": "markdown",
   "metadata": {},
   "source": [
    "## 2.3  Gaussian Jordan 消元法求解 Ax = b"
   ]
  },
  {
   "cell_type": "markdown",
   "metadata": {},
   "source": [
    "### 2.3.1 算法\n",
    "\n",
    "步骤1 检查A，b是否行数相同\n",
    "\n",
    "步骤2 构造增广矩阵Ab\n",
    "\n",
    "步骤3 逐列转换Ab为化简行阶梯形矩阵 [中文维基链接](https://zh.wikipedia.org/wiki/%E9%98%B6%E6%A2%AF%E5%BD%A2%E7%9F%A9%E9%98%B5#.E5.8C.96.E7.AE.80.E5.90.8E.E7.9A.84-.7Bzh-hans:.E8.A1.8C.3B_zh-hant:.E5.88.97.3B.7D-.E9.98.B6.E6.A2.AF.E5.BD.A2.E7.9F.A9.E9.98.B5)\n",
    "    \n",
    "    对于Ab的每一列（最后一列除外）\n",
    "        当前列为列c\n",
    "        寻找列c中 对角线以及对角线以下所有元素（行 c~N）的绝对值的最大值\n",
    "        如果绝对值最大值为0\n",
    "            那么A为奇异矩阵，返回None (你可以在选做问题2.4中证明为什么这里A一定是奇异矩阵)\n",
    "        否则\n",
    "            使用第一个行变换，将绝对值最大值所在行交换到对角线元素所在行（行c） \n",
    "            使用第二个行变换，将列c的对角线元素缩放为1\n",
    "            多次使用第三个行变换，将列c的其他元素消为0\n",
    "            \n",
    "步骤4 返回Ab的最后一列\n",
    "\n",
    "**注：** 我们并没有按照常规方法先把矩阵转化为行阶梯形矩阵，再转换为化简行阶梯形矩阵，而是一步到位。如果你熟悉常规方法的话，可以思考一下两者的等价性。"
   ]
  },
  {
   "cell_type": "markdown",
   "metadata": {},
   "source": [
    "### 2.3.2 算法推演\n",
    "\n",
    "为了充分了解Gaussian Jordan消元法的计算流程，请根据Gaussian Jordan消元法，分别手动推演矩阵A为***可逆矩阵***，矩阵A为***奇异矩阵***两种情况。"
   ]
  },
  {
   "cell_type": "code",
   "execution_count": 15,
   "metadata": {},
   "outputs": [
    {
     "name": "stdout",
     "output_type": "stream",
     "text": [
      "   4,  -5,  -9,  -2 ||  1  \n",
      "  -2,   8,  -1,  -3 ||  1  \n",
      "   3,  -2,  -6,   8 ||  1  \n",
      "   2,  -4,   0,  -7 ||  1  \n"
     ]
    }
   ],
   "source": [
    "# 不要修改这里！\n",
    "from helper import *\n",
    "\n",
    "# A = generateMatrix(4,seed,singular=False)\n",
    "A = generateMatrix(4,4,singular=False)\n",
    "b = np.ones(shape=(4,1)) # it doesn't matter\n",
    "Ab = augmentMatrix(A.tolist(),b.tolist()) # please make sure you already correct implement augmentMatrix\n",
    "printInMatrixFormat(Ab,padding=4,truncating=0)"
   ]
  },
  {
   "cell_type": "markdown",
   "metadata": {},
   "source": [
    "请按照算法的步骤3，逐步推演***可逆矩阵***的变换。\n",
    "\n",
    "在下面列出每一次循环体执行之后的增广矩阵。\n",
    "\n",
    "要求：\n",
    "1. 做分数运算\n",
    "2. 使用`\\frac{n}{m}`来渲染分数，如下：\n",
    " - $\\frac{n}{m}$\n",
    " - $-\\frac{a}{b}$\n",
    "\n",
    "增广矩阵\n",
    "$ Ab = \\begin{bmatrix}\n",
    "    4  & -5 & -9 & -2 & 1\\\\\n",
    "    -2 & 8  & -1 & -3 & 1\\\\\n",
    "    3  & -2 & -6 & 8  & 1\\\\\n",
    "    2  & -4 & 0  & -7 & 1\\end{bmatrix}$\n",
    "\n",
    "$ --> \\begin{bmatrix}\n",
    "    0 & 0 & 0 & 0 & 0\\\\\n",
    "    0 & 0 & 0 & 0 & 0\\\\\n",
    "    0 & 0 & 0 & 0 & 0\\\\\n",
    "    0 & 0 & 0 & 0 & 0\\end{bmatrix}$\n",
    "    \n",
    "$ --> \\begin{bmatrix}\n",
    "    0 & 0 & 0 & 0 & 0\\\\\n",
    "    0 & 0 & 0 & 0 & 0\\\\\n",
    "    0 & 0 & 0 & 0 & 0\\\\\n",
    "    0 & 0 & 0 & 0 & 0\\end{bmatrix}$\n",
    "    \n",
    "$...$"
   ]
  },
  {
   "cell_type": "code",
   "execution_count": 16,
   "metadata": {},
   "outputs": [
    {
     "name": "stdout",
     "output_type": "stream",
     "text": [
      "   3,   1,   2,  -4 ||  1  \n",
      "   7, -10,   4,   5 ||  1  \n",
      "   6,  -3,   5,  -6 ||  1  \n",
      "  -4,   3,  -3,   2 ||  1  \n"
     ]
    }
   ],
   "source": [
    "# 不要修改这里！\n",
    "# A = generateMatrix(4,seed,singular=True)\n",
    "A = generateMatrix(4,4,singular=True)\n",
    "b = np.ones(shape=(4,1)) # it doesn't matter\n",
    "Ab = augmentMatrix(A.tolist(),b.tolist()) # please make sure you already correct implement augmentMatrix\n",
    "printInMatrixFormat(Ab,padding=4,truncating=0)"
   ]
  },
  {
   "cell_type": "markdown",
   "metadata": {},
   "source": [
    "请按照算法的步骤3，逐步推演***奇异矩阵***的变换。\n",
    "\n",
    "在下面列出每一次循环体执行之后的增广矩阵。\n",
    "\n",
    "要求：\n",
    "1. 做分数运算\n",
    "2. 使用`\\frac{n}{m}`来渲染分数，如下：\n",
    " - $\\frac{n}{m}$\n",
    " - $-\\frac{a}{b}$\n",
    "\n",
    "增广矩阵\n",
    "$ Ab = \\begin{bmatrix}\n",
    "    0 & 0 & 0 & 0 & 0\\\\\n",
    "    0 & 0 & 0 & 0 & 0\\\\\n",
    "    0 & 0 & 0 & 0 & 0\\\\\n",
    "    0 & 0 & 0 & 0 & 0\\end{bmatrix}$\n",
    "\n",
    "$ --> \\begin{bmatrix}\n",
    "    0 & 0 & 0 & 0 & 0\\\\\n",
    "    0 & 0 & 0 & 0 & 0\\\\\n",
    "    0 & 0 & 0 & 0 & 0\\\\\n",
    "    0 & 0 & 0 & 0 & 0\\end{bmatrix}$\n",
    "    \n",
    "$ --> \\begin{bmatrix}\n",
    "    0 & 0 & 0 & 0 & 0\\\\\n",
    "    0 & 0 & 0 & 0 & 0\\\\\n",
    "    0 & 0 & 0 & 0 & 0\\\\\n",
    "    0 & 0 & 0 & 0 & 0\\end{bmatrix}$\n",
    "    \n",
    "$...$"
   ]
  },
  {
   "cell_type": "markdown",
   "metadata": {},
   "source": [
    "### 2.3.3 实现 Gaussian Jordan 消元法"
   ]
  },
  {
   "cell_type": "code",
   "execution_count": 11,
   "metadata": {
    "collapsed": true
   },
   "outputs": [],
   "source": [
    "# TODO 实现 Gaussain Jordan 方法求解 Ax = b\n",
    "\n",
    "\"\"\" Gaussian Jordan 方法求解 Ax = b.\n",
    "    参数\n",
    "        A: 方阵 \n",
    "        b: 列向量\n",
    "        decPts: 四舍五入位数，默认为4\n",
    "        epsilon: 判读是否为0的阈值，默认 1.0e-16\n",
    "        \n",
    "    返回列向量 x 使得 Ax = b \n",
    "    返回None，如果 A，b 高度不同\n",
    "    返回None，如果 A 为奇异矩阵\n",
    "\"\"\"\n",
    "\n",
    "from decimal import Decimal, getcontext\n",
    "\n",
    "getcontext().prec = 30\n",
    "\n",
    "# row operation 1\n",
    "def swapRows(M, r1, r2):\n",
    "    if r1 == r2:\n",
    "        return\n",
    "    \n",
    "    l = M[r1]\n",
    "    M[r1] = M[r2]\n",
    "    M[r2] = l\n",
    "\n",
    "    \n",
    "# row operation 2\n",
    "def scaleRow(M, r, scale):\n",
    "    if is_near_zero(scale):\n",
    "        raise ValueError\n",
    "        \n",
    "    for i in xrange(len(M[r])):\n",
    "        M[r][i] = Decimal(scale * M[r][i])\n",
    "\n",
    "\n",
    "# row operation 3\n",
    "def addScaledRow(M, r1, r2, scale):\n",
    "    if is_near_zero(scale):\n",
    "        raise ValueError\n",
    "        \n",
    "    for i in xrange(len(M[r1])):\n",
    "        M[r1][i] += Decimal(M[r2][i]*scale)\n",
    "\n",
    "\n",
    "def augmentMatrix(A, b):\n",
    "    # Solution 1: Running Time = 0.013s\n",
    "    rows = len(A)\n",
    "    cols = len(A[0]) + len(b[0])\n",
    "    Ab = get_RxC_Matrix(rows, cols, 0)\n",
    "    for i in xrange(rows):\n",
    "        for j in xrange(cols):\n",
    "            if j==(cols-1):\n",
    "                Ab[i][j] = b[i][0]\n",
    "            else:\n",
    "                Ab[i][j] = A[i][j]\n",
    "    return Ab\n",
    "\n",
    "\n",
    "def maxAbsIndex(matrix, col):\n",
    "    rows = len(matrix)\n",
    "    cols = len(matrix[0])\n",
    "    \n",
    "    if col >= cols:\n",
    "        return None\n",
    "    \n",
    "    maxAbs = 0\n",
    "    index = col\n",
    "    for i in xrange(col, rows):\n",
    "        currentAbs = abs(matrix[i][col])\n",
    "        if currentAbs > maxAbs:\n",
    "            maxAbs = currentAbs\n",
    "            index = i\n",
    "            \n",
    "    return maxAbs, index\n",
    "\n",
    "def get_RxC_Matrix(rows,cols,x):\n",
    "    return [[x for i in range(cols)] for j in range(rows)]\n",
    "\n",
    "def getLastCol(Ab, decPts=4):\n",
    "    rows = len(Ab)\n",
    "    lastCol = get_RxC_Matrix(rows,1,0)\n",
    "    for i in xrange(rows):\n",
    "        lastCol[i][0] = round(Ab[i][len(Ab[0])-1], decPts)\n",
    "    return lastCol\n",
    "\n",
    "def is_near_zero(value, epsilon = 1.0e-16):\n",
    "    return abs(value) < epsilon\n",
    "\n",
    "\n",
    "def gj_Solve(A, b, decPts=4, epsilon = 1.0e-16):\n",
    "    # Step 1: Check if A and b have same number of rows\n",
    "    if (len(A) != len(b)):\n",
    "        return None\n",
    "    \n",
    "    # Step 2: Construct augmented matrix Ab\n",
    "    Ab = augmentMatrix(A, b)\n",
    "    \n",
    "    # Step 3: Column by column, transform Ab to RREF(reduced row echelon form)\n",
    "    rows = len(A)\n",
    "    cols = len(A[0])\n",
    "    for col in xrange(cols):\n",
    "        # Find in column c, at diagonal and under diagonal (row c ~ N) the maximum absolute value\n",
    "        maxAbs, index = maxAbsIndex(Ab, col)\n",
    "        if is_near_zero(maxAbs, epsilon):\n",
    "            # If the maximum absolute value is 0, then A is singular, return None\n",
    "            return None\n",
    "        else:\n",
    "            # Apply row operation 1, swap the row of maximum with the row of diagonal element (row c)\n",
    "            swapRows(Ab, col, index)\n",
    "            \n",
    "            # Apply row operation 2, scale the diagonal element of column c to 1\n",
    "            scaleRow(Ab, col, Decimal(1.0)/Decimal(Ab[col][col]))\n",
    "            \n",
    "            # Apply row operation 3 mutiple time, eliminate every other element in column c\n",
    "            for scaleRowIndex in xrange(rows):\n",
    "                if scaleRowIndex == col:\n",
    "                    continue\n",
    "                \n",
    "                scale = Decimal(-Ab[scaleRowIndex][col])\n",
    "                if is_near_zero(scale):\n",
    "                    continue\n",
    "                else:\n",
    "                    addScaledRow(Ab, scaleRowIndex, col, scale)\n",
    "    x = getLastCol(Ab, decPts)\n",
    "    return x"
   ]
  },
  {
   "cell_type": "code",
   "execution_count": 34,
   "metadata": {},
   "outputs": [
    {
     "name": "stderr",
     "output_type": "stream",
     "text": [
      ".\n",
      "----------------------------------------------------------------------\n",
      "Ran 1 test in 1.903s\n",
      "\n",
      "OK\n"
     ]
    }
   ],
   "source": [
    "# 运行以下代码测试你的 gj_Solve 函数\n",
    "%run -i -e test.py LinearRegressionTestCase.test_gj_Solve"
   ]
  },
  {
   "cell_type": "markdown",
   "metadata": {},
   "source": [
    "## (选做) 2.4 算法正确判断了奇异矩阵：\n",
    "\n",
    "在算法的步骤3 中，如果发现某一列对角线和对角线以下所有元素都为0，那么则断定这个矩阵为奇异矩阵。\n",
    "\n",
    "我们用正式的语言描述这个命题，并证明为真。\n",
    "\n",
    "证明下面的命题：\n",
    "\n",
    "**如果方阵 A 可以被分为4个部分: ** \n",
    "\n",
    "$ A = \\begin{bmatrix}\n",
    "    I    & X \\\\\n",
    "    Z    & Y \\\\\n",
    "\\end{bmatrix} , \\text{其中 I 为单位矩阵，Z 为全0矩阵，Y 的第一列全0}$，\n",
    "\n",
    "**那么A为奇异矩阵。**\n",
    "\n",
    "提示：从多种角度都可以完成证明\n",
    "- 考虑矩阵 Y 和 矩阵 A 的秩\n",
    "- 考虑矩阵 Y 和 矩阵 A 的行列式\n",
    "- 考虑矩阵 A 的某一列是其他列的线性组合"
   ]
  },
  {
   "cell_type": "markdown",
   "metadata": {},
   "source": [
    "TODO 证明：\n",
    "\n",
    "Since $ A = \\begin{bmatrix}\n",
    "    I    & X \\\\\n",
    "    Z    & Y \\\\\n",
    "\\end{bmatrix} $  , then \n",
    "$ |A| = \\begin{vmatrix}\n",
    "    I    & X \\\\ \n",
    "    Z    & Y \\\\\n",
    "\\end{vmatrix} $ \n",
    "= |IY| - |XZ|\n",
    "\n",
    "I is the identity matrix $\\rightarrow$ |IY| = |Y|.  \n",
    "Z is all zero $\\rightarrow$ |XZ| = 0.  \n",
    "Thus, |A| = |Y|  \n",
    "\n",
    "The first column of Y is all zero $\\rightarrow\n",
    "|Y|= \\begin{vmatrix}\n",
    "    0    & Y1 \\\\ \n",
    "    O    & Y2 \\\\\n",
    "\\end{vmatrix} = 0\\times|Y2|-|O||Y1|=0 \n",
    "\\rightarrow \n",
    "|A| = 0 \n",
    "\\rightarrow $ A is singular"
   ]
  },
  {
   "cell_type": "markdown",
   "metadata": {},
   "source": [
    "# 3  线性回归"
   ]
  },
  {
   "cell_type": "markdown",
   "metadata": {},
   "source": [
    "## 3.1 随机生成样本点"
   ]
  },
  {
   "cell_type": "code",
   "execution_count": 12,
   "metadata": {},
   "outputs": [
    {
     "name": "stdout",
     "output_type": "stream",
     "text": [
      "The actual m=2.71320643267, b=5.20751949359\n"
     ]
    },
    {
     "data": {
      "image/png": "[encoded data removed]",
      "text/plain": [
       "<matplotlib.figure.Figure at 0x1145eab90>"
      ]
     },
     "metadata": {},
     "output_type": "display_data"
    }
   ],
   "source": [
    "# 不要修改这里！\n",
    "# 运行一次就够了！\n",
    "from helper import *\n",
    "from matplotlib import pyplot as plt\n",
    "%matplotlib inline\n",
    "\n",
    "# X,Y = generatePoints(seed, num=100)\n",
    "X,Y, actual_m, actual_b = generatePoints(seed=10, num=100)\n",
    "\n",
    "## 可视化\n",
    "plt.xlim((-5,5))\n",
    "plt.xlabel('x',fontsize=18)\n",
    "plt.ylabel('y',fontsize=18)\n",
    "plt.scatter(X,Y,c='b') # b 是blue的意思；color=blue\n",
    "plt.show()"
   ]
  },
  {
   "cell_type": "markdown",
   "metadata": {},
   "source": [
    "## 3.2 拟合一条直线\n",
    "\n",
    "### 3.2.1 猜测一条直线"
   ]
  },
  {
   "cell_type": "code",
   "execution_count": 8,
   "metadata": {},
   "outputs": [
    {
     "name": "stderr",
     "output_type": "stream",
     "text": [
      "/Users/Dojo/anaconda2/lib/python2.7/site-packages/matplotlib/cbook/deprecation.py:106: MatplotlibDeprecationWarning: Adding an axes using the same arguments as a previous axes currently reuses the earlier instance.  In a future version, a new instance will always be created and returned.  Meanwhile, this warning can be suppressed, and the future behavior ensured, by passing a unique label to each axes instance.\n",
      "  warnings.warn(message, mplDeprecation, stacklevel=1)\n"
     ]
    },
    {
     "data": {
      "image/png": "[encoded data removed]",
      "text/plain": [
       "<matplotlib.figure.Figure at 0x1145a8250>"
      ]
     },
     "metadata": {},
     "output_type": "display_data"
    }
   ],
   "source": [
    "#TODO 请选择最适合的直线 y = mx + b\n",
    "m = 2.7\n",
    "b = 5\n",
    "\n",
    "# 不要修改这里！\n",
    "plt.xlim((-5,5))\n",
    "x_vals = plt.axes().get_xlim()\n",
    "y_vals = [m*x+b for x in x_vals]\n",
    "plt.plot(x_vals, y_vals, '-', color='r')\n",
    "\n",
    "plt.xlabel('x',fontsize=18)\n",
    "plt.ylabel('y',fontsize=18)\n",
    "plt.scatter(X,Y,c='b')\n",
    "\n",
    "plt.show()"
   ]
  },
  {
   "cell_type": "markdown",
   "metadata": {},
   "source": [
    "### 3.2.2 计算平均平方误差 (MSE)"
   ]
  },
  {
   "cell_type": "markdown",
   "metadata": {
    "collapsed": true
   },
   "source": [
    "我们要编程计算所选直线的平均平方误差(MSE), 即数据集中每个点到直线的Y方向距离的平方的平均数，表达式如下：\n",
    "$$\n",
    "MSE = \\frac{1}{n}\\sum_{i=1}^{n}{(y_i - mx_i - b)^2}\n",
    "$$"
   ]
  },
  {
   "cell_type": "code",
   "execution_count": 14,
   "metadata": {},
   "outputs": [
    {
     "name": "stdout",
     "output_type": "stream",
     "text": [
      "1.03769646016502690599736524746\n"
     ]
    }
   ],
   "source": [
    "# TODO 实现以下函数并输出所选直线的MSE\n",
    "from decimal import Decimal, getcontext\n",
    "\n",
    "getcontext().prec = 30\n",
    "\n",
    "def calculateMSE(X,Y,m,b):\n",
    "    if len(X) != len(Y):\n",
    "        return None\n",
    "    \n",
    "    n = len(X)\n",
    "    total = 0\n",
    "    for i in xrange(n):\n",
    "        total += ((Y[i] - m*X[i] - b)**2)\n",
    "        \n",
    "    mse = Decimal(total)/Decimal(n)\n",
    "#     mse = round(mse, 4)\n",
    "    return mse\n",
    "\n",
    "print(calculateMSE(X,Y,m,b))"
   ]
  },
  {
   "cell_type": "markdown",
   "metadata": {},
   "source": [
    "### 3.2.3 调整参数 $m, b$ 来获得最小的平方平均误差\n",
    "\n",
    "你可以调整3.2.1中的参数 $m,b$ 让蓝点均匀覆盖在红线周围，然后微调 $m, b$ 让MSE最小。"
   ]
  },
  {
   "cell_type": "markdown",
   "metadata": {},
   "source": [
    "## 3.3 (选做) 找到参数 $m, b$ 使得平方平均误差最小\n",
    "\n",
    "**这一部分需要简单的微积分知识(  $ (x^2)' = 2x $ )。因为这是一个线性代数项目，所以设为选做。**\n",
    "\n",
    "刚刚我们手动调节参数，尝试找到最小的平方平均误差。下面我们要精确得求解 $m, b$ 使得平方平均误差最小。\n",
    "\n",
    "定义目标函数 $E$ 为\n",
    "$$\n",
    "E = \\frac{1}{2}\\sum_{i=1}^{n}{(y_i - mx_i - b)^2}\n",
    "$$\n",
    "\n",
    "因为 $E = \\frac{n}{2}MSE$, 所以 $E$ 取到最小值时，$MSE$ 也取到最小值。要找到 $E$ 的最小值，即要找到 $m, b$ 使得 $E$ 相对于 $m$, $E$ 相对于 $b$ 的偏导数等于0. \n",
    "\n",
    "因此我们要解下面的方程组。\n",
    "\n",
    "$$\n",
    "\\begin{cases}\n",
    "\\displaystyle\n",
    "\\frac{\\partial E}{\\partial m} =0 \\\\\n",
    "\\\\\n",
    "\\displaystyle\n",
    "\\frac{\\partial E}{\\partial b} =0 \\\\\n",
    "\\end{cases}\n",
    "$$\n",
    "\n",
    "### 3.3.1 计算目标函数相对于参数的导数\n",
    "首先我们计算两个式子左边的值\n",
    "\n",
    "证明/计算：\n",
    "$$\n",
    "\\frac{\\partial E}{\\partial m} = \\sum_{i=1}^{n}{-x_i(y_i - mx_i - b)}\n",
    "$$\n",
    "\n",
    "$$\n",
    "\\frac{\\partial E}{\\partial b} = bx\n",
    "$$"
   ]
  },
  {
   "cell_type": "markdown",
   "metadata": {},
   "source": [
    "TODO 证明:  \n",
    "\n",
    "$$\n",
    "\\begin{multline*}\n",
    "1. 证明  \\frac{\\partial E}{\\partial m} = \\sum_{i=1}^{n}{-x_i(y_i - mx_i - b)}\n",
    "\\end{multline*}\n",
    "$$\n",
    "\n",
    "$$ \n",
    "假设：\n",
    "\\begin{multline}\n",
    "\\begin{cases}\n",
    "\\displaystyle\n",
    "E = E(u) = \\frac{1}{2} \\sum_{i=1}^{n}u^2\n",
    "\\\\\n",
    "\\displaystyle\n",
    "u = -mx_{i}-(b-y_{i})\n",
    "\\end{cases}   \\\\\n",
    "\\end{multline}\n",
    "$$\n",
    "\n",
    "$$\n",
    "\\begin{multline}\n",
    "通过复合函数求导法则：\\frac{\\partial E}{\\partial m}={E_{m}}'={E_{u}}'\\cdot{u_{m}}' \\\\\n",
    "\\end{multline}\n",
    "$$\n",
    "\n",
    "$$\n",
    "\\begin{align*}\n",
    "\\begin{cases}\n",
    "{E_{u}}' &= ( \\frac{1}{2} \\sum_{i=1}^{n}u^2)'= \\sum_{i=1}^{n}u= \\sum_{i=1}^{n}(y_{i}-mx_{i}-b)) \\\\\n",
    "{u_{m}}' &=   (-mx_{i}-(b+y_{i}))'=-x_{i}\\\\\n",
    "\\end{cases}  \\\\\n",
    "\\end{align*}\n",
    "$$\n",
    "\n",
    "$$\n",
    "\\rightarrow \\frac{\\partial E}{\\partial m}=  \\sum_{i=1}^{n}{-x_i(y_i - mx_i - b)}\n",
    "$$\n",
    "\n",
    "$$\n",
    "\\begin{multline*}\n",
    "2. 证明  \\frac{\\partial E}{\\partial b} = \\sum_{i=1}^{n}{-(y_i - mx_i - b)}\n",
    "\\end{multline*}\n",
    "$$\n",
    "\n",
    "$$ \n",
    "假设：\n",
    "\\begin{multline}\n",
    "\\begin{cases}\n",
    "\\displaystyle\n",
    "E = E(u) = \\frac{1}{2} \\sum_{i=1}^{n}u^2\n",
    "\\\\\n",
    "\\displaystyle\n",
    "u = -mx_{i}-(b-y_{i})\n",
    "\\end{cases}   \\\\\n",
    "\\end{multline}\n",
    "$$\n",
    "\n",
    "$$\n",
    "\\begin{multline}\n",
    "通过复合函数求导法则：\\frac{\\partial E}{\\partial b}={E_{b}}'={E_{u}}'\\cdot{u_{b}}' \\\\\n",
    "\\end{multline}\n",
    "$$\n",
    "\n",
    "$$\n",
    "\\begin{align*}\n",
    "\\begin{cases}\n",
    "{E_{u}}' &= ( \\frac{1}{2} \\sum_{i=1}^{n}u^2)'= \\sum_{i=1}^{n}u= \\sum_{i=1}^{n}(y_{i}-mx_{i}-b)) \\\\\n",
    "{u_{b}}' &=   (-mx_{i}-(b+y_{i}))'=-x_{i}\\\\\n",
    "\\end{cases}  \\\\\n",
    "\\end{align*}\n",
    "$$\n",
    "\n",
    "$$\n",
    "\\rightarrow \\frac{\\partial E}{\\partial b}=  \\sum_{i=1}^{n}{-(y_i - mx_i - b)}\n",
    "$$\n"
   ]
  },
  {
   "cell_type": "markdown",
   "metadata": {},
   "source": [
    "### 3.3.2 实例推演\n",
    "\n",
    "现在我们有了一个二元二次方程组\n",
    "\n",
    "$$\n",
    "\\begin{cases}\n",
    "\\displaystyle\n",
    "\\sum_{i=1}^{n}{-x_i(y_i - mx_i - b)} =0 \\\\\n",
    "\\\\\n",
    "\\displaystyle\n",
    "\\sum_{i=1}^{n}{-(y_i - mx_i - b)} =0 \\\\\n",
    "\\end{cases}\n",
    "$$\n",
    "\n",
    "为了加强理解，我们用一个实际例子演练。\n",
    "\n",
    "我们要用三个点 $(1,1), (2,2), (3,2)$ 来拟合一条直线 y = m*x + b, 请写出\n",
    "\n",
    "- 目标函数 $E$, \n",
    "- 二元二次方程组，\n",
    "- 并求解最优参数 $m, b$"
   ]
  },
  {
   "cell_type": "markdown",
   "metadata": {},
   "source": [
    "TODO 写出目标函数，方程组和最优参数  \n",
    "\n",
    "1. $E = \\frac{1}{2}\\sum_{i=1}^{n}{(y_i - mx_i - b)^2}$\n",
    "2. 二元二次方程组\n",
    "$$\n",
    "\\begin{cases}\n",
    "\\displaystyle\n",
    "\\sum_{i=1}^{n}{-x_i(y_i - mx_i - b)} =0 \\\\\n",
    "\\\\\n",
    "\\displaystyle\n",
    "\\sum_{i=1}^{n}{-(y_i - mx_i - b)} =0 \\\\\n",
    "\\end{cases}\n",
    "\\rightarrow\n",
    "带入 (1,1), (2,2), (3,2)  \n",
    "\\rightarrow\n",
    "\\begin{cases}\n",
    "\\displaystyle\n",
    "\\ (-1-4-6)+(m+4m+9m)+(b+2b+3b)=0 \n",
    "\\\\\n",
    "\\displaystyle\n",
    "\\ (-1-2-2)+(m+2m+3m)+(b+b+b)=0\n",
    "\\end{cases}\n",
    "\\\\\n",
    "\\rightarrow\n",
    "\\begin{cases}\n",
    "\\ 6b+14m=11\n",
    "\\\\\n",
    "\\ 3b+6m=5\n",
    "\\end{cases}\n",
    "\\rightarrow 得到增广矩阵 \n",
    "\\begin{bmatrix}\n",
    "6 & 14 & 11  \\\\\n",
    "3 & 6  & 5\n",
    "\\end{bmatrix}\n",
    "\\rightarrow 经过高斯消元法得到RREF \\rightarrow\n",
    "\\begin{bmatrix}\n",
    "1 & 0 & \\frac{2}{3}  \\\\\n",
    "0 & 1 & \\frac{1}{2}\n",
    "\\end{bmatrix}\n",
    "$$\n",
    "\n",
    "3. 求解最有参数m,b  \n",
    "$m=\\frac{1}{2}$  \n",
    "$b=\\frac{2}{3}$"
   ]
  },
  {
   "cell_type": "markdown",
   "metadata": {},
   "source": [
    "### 3.3.3 将方程组写成矩阵形式\n",
    "\n",
    "我们的二元二次方程组可以用更简洁的矩阵形式表达，将方程组写成矩阵形式更有利于我们使用 Gaussian Jordan 消元法求解。\n",
    "\n",
    "请证明 \n",
    "$$\n",
    "\\begin{bmatrix}\n",
    "    \\frac{\\partial E}{\\partial m} \\\\\n",
    "    \\frac{\\partial E}{\\partial b} \n",
    "\\end{bmatrix} = X^TXh - X^TY\n",
    "$$\n",
    "\n",
    "其中向量 $Y$, 矩阵 $X$ 和 向量 $h$ 分别为 :\n",
    "$$\n",
    "Y =  \\begin{bmatrix}\n",
    "    y_1 \\\\\n",
    "    y_2 \\\\\n",
    "    ... \\\\\n",
    "    y_n\n",
    "\\end{bmatrix}\n",
    ",\n",
    "X =  \\begin{bmatrix}\n",
    "    x_1 & 1 \\\\\n",
    "    x_2 & 1\\\\\n",
    "    ... & ...\\\\\n",
    "    x_n & 1 \\\\\n",
    "\\end{bmatrix},\n",
    "h =  \\begin{bmatrix}\n",
    "    m \\\\\n",
    "    b \\\\\n",
    "\\end{bmatrix}\n",
    "$$"
   ]
  },
  {
   "cell_type": "markdown",
   "metadata": {},
   "source": [
    "TODO 证明:\n",
    "\n",
    "$$\n",
    "\\begin{bmatrix}\n",
    "    \\frac{\\partial E}{\\partial m} \\\\\n",
    "    \\frac{\\partial E}{\\partial b} \n",
    "\\end{bmatrix} = X^TXh - X^TY\n",
    "$$\n",
    "\n",
    "$$\n",
    "\\begin{align*}\n",
    "\\begin{bmatrix}\n",
    "    \\frac{\\partial E}{\\partial m} \\\\\n",
    "    \\frac{\\partial E}{\\partial b} \n",
    "\\end{bmatrix} \n",
    "& = \n",
    "\\begin{bmatrix}\n",
    "    \\sum_{i=1}^{n}{-x_i(y_i - mx_i - b)} \\\\\n",
    "    \\sum_{i=1}^{n}{-(y_i - mx_i - b)} \n",
    "\\end{bmatrix} \n",
    "\\\\ & =\n",
    "\\begin{bmatrix}\n",
    "    \\sum_{i=1}^{n}{mx_{i}^2} + \\sum_{i=1}^{n}{bx_{i}} \\\\\n",
    "    \\sum_{i=1}^{n}{mx_{i}} + \\sum_{i=1}^{n}b\n",
    "\\end{bmatrix} \n",
    "-\n",
    "\\begin{bmatrix}\n",
    "     \\sum_{i=1}^{n}{x_{i}y_{i}} \\\\\n",
    "     \\sum_{i=1}^{n}{y_{i}}\n",
    "\\end{bmatrix}\n",
    "\\\\ & =\n",
    "\\begin{bmatrix}\n",
    "    \\sum_{i=1}^{n}{x_{i}^2} &   \\sum_{i=1}^{n}{x_{i}} \\\\\n",
    "    \\sum_{i=1}^{n}{x_{i}}   &   \\sum_{i=1}^{n}1\n",
    "\\end{bmatrix} \n",
    "\\cdot\n",
    "\\begin{bmatrix}\n",
    "    m \\\\\n",
    "    b\n",
    "\\end{bmatrix}\n",
    "-\n",
    "\\begin{bmatrix}\n",
    "     \\sum_{i=1}^{n}{x_{i}y_{i}} \\\\\n",
    "     \\sum_{i=1}^{n}{y_{i}}\n",
    "\\end{bmatrix}\n",
    "\\\\ & =\n",
    "\\begin{bmatrix}\n",
    "    x_{1}^2+x_{2}^2+...x_{n}^2  &   x_{1}+x_{2}+...x_{n} \\\\\n",
    "     x_{1}+x_{2}+...x_{n}       &   n\n",
    "\\end{bmatrix} \n",
    "\\cdot\n",
    "\\begin{bmatrix}\n",
    "    m \\\\\n",
    "    b\n",
    "\\end{bmatrix}\n",
    "-\n",
    "\\begin{bmatrix}\n",
    "     x_{1}y_{1}+x_{2}y_{2}+x_{3}y_{3} ...+x_{n}y_{n} \\\\\n",
    "     y_{1}+y_{2}+y_{3}+...+y_{n}\n",
    "\\end{bmatrix}\n",
    "\\\\ & =\n",
    "\\begin{bmatrix}\n",
    "    x_1 & x_2 & ... & x_n \\\\\n",
    "    1   &  1  & ... & 1\n",
    "\\end{bmatrix}\n",
    "\\cdot\n",
    "\\begin{bmatrix}\n",
    "    x_1 & 1 \\\\\n",
    "    x_2 & 1\\\\\n",
    "    ... & ...\\\\\n",
    "    x_n & 1 \\\\\n",
    "\\end{bmatrix}\n",
    "\\cdot\n",
    "\\begin{bmatrix}\n",
    "    m \\\\\n",
    "    b\n",
    "\\end{bmatrix}\n",
    "-\n",
    "\\begin{bmatrix}\n",
    "    x_1 & x_2 & ... & x_n \\\\\n",
    "    1   &  1  & ... & 1\n",
    "\\end{bmatrix}\n",
    "\\cdot\n",
    "\\begin{bmatrix}\n",
    "    y_1 \\\\\n",
    "    y_2 \\\\\n",
    "    ... \\\\\n",
    "    y_n\n",
    "\\end{bmatrix}\n",
    "\\\\ & =\n",
    "\\ X^TXh - X^TY\n",
    "\\end{align*}\n",
    "$$"
   ]
  },
  {
   "cell_type": "markdown",
   "metadata": {},
   "source": [
    "至此我们知道，通过求解方程 $X^TXh = X^TY$ 来找到最优参数。这个方程十分重要，他有一个名字叫做 **Normal Equation**，也有直观的几何意义。你可以在 [子空间投影](http://open.163.com/movie/2010/11/J/U/M6V0BQC4M_M6V2AJLJU.html) 和 [投影矩阵与最小二乘](http://open.163.com/movie/2010/11/P/U/M6V0BQC4M_M6V2AOJPU.html) 看到更多关于这个方程的内容。"
   ]
  },
  {
   "cell_type": "markdown",
   "metadata": {},
   "source": [
    "### 3.4 求解 $X^TXh = X^TY$ \n",
    "\n",
    "在3.3 中，我们知道线性回归问题等价于求解 $X^TXh = X^TY$ (如果你选择不做3.3，就勇敢的相信吧，哈哈)\n",
    "\n",
    "#### 求解方法\n",
    "1. 根据公式构建增广矩阵  \n",
    "$$\n",
    "\\begin{cases}\n",
    "\\displaystyle\n",
    "\\sum_{i=1}^{n}{-x_i(y_i - mx_i - b)} =0 \\\\\n",
    "\\\\\n",
    "\\displaystyle\n",
    "\\sum_{i=1}^{n}{-(y_i - mx_i - b)} =0 \\\\\n",
    "\\end{cases}\n",
    "\\rightarrow\n",
    "\\begin{cases}\n",
    "\\ m(\\sum_{i=1}^{n}x_i^2) + b(\\sum_{i=1}^{n}x_i) = \\sum_{i=1}^{n}(x_iy_i)\n",
    "\\\\\n",
    "\\ m(\\sum_{i=1}^{n}x_i) + b(\\sum_{i=1}^{n}1) = \\sum_{i=1}^{n}(y_i)\n",
    "\\end{cases}\n",
    "$$\n",
    "\n",
    "\\begin{align*}\n",
    "列顺序：&m \\ + \\ b = VALUE  \\\\\n",
    "&\\begin{bmatrix}\n",
    "    \\sum_{i=1}^{n}x_i^2  &  \\sum_{i=1}^{n}x_i  &  \\sum_{i=1}^{n}(x_iy_i)  \\\\\n",
    "    \\sum_{i=1}^{n}x_i    &  \\sum_{i=1}^{n}1    &  \\sum_{i=1}^{n}(y_i)\n",
    "\\end{bmatrix}\n",
    "\\end{align*}\n",
    "\n",
    "对增广矩阵进行Gaussian Jordan可以求得 $m,b$ 的值"
   ]
  },
  {
   "cell_type": "code",
   "execution_count": 21,
   "metadata": {},
   "outputs": [
    {
     "name": "stdout",
     "output_type": "stream",
     "text": [
      "(2.6721, 5.2645)\n"
     ]
    }
   ],
   "source": [
    "# TODO 实现线性回归\n",
    "'''\n",
    "参数：X, Y\n",
    "返回：m，b\n",
    "'''\n",
    "from decimal import Decimal, getcontext\n",
    "\n",
    "getcontext().prec = 30\n",
    "    \n",
    "def sum_of_xi_yi(X,Y):\n",
    "    n = len(X)\n",
    "    total = 0\n",
    "    for i in xrange(n):\n",
    "        total += Decimal(X[i])*Decimal(Y[i])\n",
    "    return total\n",
    "\n",
    "def linearRegression(X,Y):\n",
    "    xi_squared = sum(Decimal(x)**2 for x in X)\n",
    "    xi = sum(Decimal(x) for x in X)\n",
    "    xi_yi = sum_of_xi_yi(X,Y)\n",
    "    yi = sum(Decimal(y) for y in Y)\n",
    "    n = len(X)\n",
    "    \n",
    "    A = [[xi_squared, xi],[xi, n]]\n",
    "    b = [[xi_yi], [yi]]\n",
    "    h = gj_Solve(A, b)\n",
    "    m = h[0][0]\n",
    "    b = h[1][0]\n",
    "    return m, b\n",
    "\n",
    "m,b = linearRegression(X,Y)\n",
    "print(m,b)"
   ]
  },
  {
   "cell_type": "markdown",
   "metadata": {},
   "source": [
    "你求得的回归结果是什么？\n",
    "请使用运行以下代码将它画出来。"
   ]
  },
  {
   "cell_type": "code",
   "execution_count": 22,
   "metadata": {},
   "outputs": [
    {
     "data": {
      "image/png": "[encoded data removed]",
      "text/plain": [
       "<matplotlib.figure.Figure at 0x10afe45d0>"
      ]
     },
     "metadata": {},
     "output_type": "display_data"
    }
   ],
   "source": [
    "# 请不要修改下面的代码\n",
    "x1,x2 = -5,5\n",
    "y1,y2 = x1*m+b, x2*m+b\n",
    "\n",
    "plt.xlim((-5,5))\n",
    "plt.xlabel('x',fontsize=18)\n",
    "plt.ylabel('y',fontsize=18)\n",
    "plt.scatter(X,Y,c='b')\n",
    "plt.plot((x1,x2),(y1,y2),'r')\n",
    "plt.text(1,2,'y = {m}x + {b}'.format(m=m,b=b))\n",
    "plt.show()"
   ]
  },
  {
   "cell_type": "markdown",
   "metadata": {},
   "source": [
    "你求得的回归结果对当前数据集的MSE是多少？"
   ]
  },
  {
   "cell_type": "code",
   "execution_count": null,
   "metadata": {
    "collapsed": true
   },
   "outputs": [],
   "source": [
    "MSE = "
   ]
  },
  {
   "cell_type": "code",
   "execution_count": null,
   "metadata": {
    "collapsed": true
   },
   "outputs": [],
   "source": []
  },
  {
   "cell_type": "code",
   "execution_count": null,
   "metadata": {
    "collapsed": true
   },
   "outputs": [],
   "source": []
  }
 ],
 "metadata": {
  "anaconda-cloud": {},
  "celltoolbar": "Raw Cell Format",
  "kernelspec": {
   "display_name": "Python 2",
   "language": "python",
   "name": "python2"
  },
  "language_info": {
   "codemirror_mode": {
    "name": "ipython",
    "version": 2
   },
   "file_extension": ".py",
   "mimetype": "text/x-python",
   "name": "python",
   "nbconvert_exporter": "python",
   "pygments_lexer": "ipython2",
   "version": "2.7.14"
  }
 },
 "nbformat": 4,
 "nbformat_minor": 2
}
