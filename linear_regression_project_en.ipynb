{
 "cells": [
  {
   "cell_type": "markdown",
   "metadata": {},
   "source": [
    "# 1 Matrix operations\n",
    "\n",
    "## 1.1 Create a 4*4 identity matrix"
   ]
  },
  {
   "cell_type": "code",
   "execution_count": 2,
   "metadata": {},
   "outputs": [
    {
     "name": "stdout",
     "output_type": "stream",
     "text": [
      "[[1, 0, 0, 0], [0, 1, 0, 0], [0, 0, 1, 0], [0, 0, 0, 1]]\n"
     ]
    }
   ],
   "source": [
    "#This project is designed to get familiar with python list and linear algebra\n",
    "#You cannot use import any library yourself, especially numpy\n",
    "\n",
    "A = [[1,2,3], \n",
    "     [2,3,3], \n",
    "     [1,2,5]]\n",
    "\n",
    "B = [[1,2,3,5], \n",
    "     [2,3,3,5], \n",
    "     [1,2,5,1]]\n",
    "\n",
    "# create a 4*4 identity matrix \n",
    "def get_MxN_Matrix(m,n,x):\n",
    "    return [[x for i in range(m)] for j in range(n)]\n",
    "\n",
    "dimension = 4\n",
    "matrix = get_MxN_Matrix(dimension,dimension,0)\n",
    "for i in xrange(dimension):\n",
    "    matrix[i][i] = 1\n",
    "print matrix"
   ]
  },
  {
   "cell_type": "markdown",
   "metadata": {},
   "source": [
    "## 1.2 get the width and height of a matrix. "
   ]
  },
  {
   "cell_type": "code",
   "execution_count": 5,
   "metadata": {
    "collapsed": true
   },
   "outputs": [],
   "source": [
    "#TODO Get the height and weight of a matrix.\n",
    "def shape(M):\n",
    "    rows = len(M)\n",
    "    cols = len(M[0])\n",
    "    return rows, cols"
   ]
  },
  {
   "cell_type": "code",
   "execution_count": 6,
   "metadata": {},
   "outputs": [
    {
     "name": "stderr",
     "output_type": "stream",
     "text": [
      ".\n",
      "----------------------------------------------------------------------\n",
      "Ran 1 test in 0.002s\n",
      "\n",
      "OK\n"
     ]
    }
   ],
   "source": [
    "# run following code to test your shape function\n",
    "%run -i -e test.py LinearRegressionTestCase.test_shape"
   ]
  },
  {
   "cell_type": "markdown",
   "metadata": {},
   "source": [
    "## 1.3 round all elements in M to certain decimal points"
   ]
  },
  {
   "cell_type": "code",
   "execution_count": 7,
   "metadata": {
    "collapsed": true
   },
   "outputs": [],
   "source": [
    "# in-place operation, no return value\n",
    "# round all elements in M to decPts\n",
    "def matxRound(M, decPts=4):\n",
    "    rowLen = len(M)\n",
    "    for i in xrange(rowLen):\n",
    "        colLen = len(M[i])\n",
    "        for j in xrange(colLen):\n",
    "            rounded_element = round(M[i][j], decPts)\n",
    "            M[i][j] = rounded_element"
   ]
  },
  {
   "cell_type": "code",
   "execution_count": 8,
   "metadata": {},
   "outputs": [
    {
     "name": "stderr",
     "output_type": "stream",
     "text": [
      ".\n",
      "----------------------------------------------------------------------\n",
      "Ran 1 test in 0.070s\n",
      "\n",
      "OK\n"
     ]
    }
   ],
   "source": [
    "# run following code to test your matxRound function\n",
    "%run -i -e test.py LinearRegressionTestCase.test_matxRound"
   ]
  },
  {
   "cell_type": "markdown",
   "metadata": {},
   "source": [
    "## 1.4 compute transpose of M"
   ]
  },
  {
   "cell_type": "code",
   "execution_count": 69,
   "metadata": {
    "collapsed": true
   },
   "outputs": [],
   "source": [
    "# compute transpose of M\n",
    "\n",
    "def transpose(M):\n",
    "    rows = len(M)\n",
    "    cols = len(M[0])\n",
    "    t_M = get_MxN_Matrix(rows, cols, 0)\n",
    "    for row in xrange(cols):\n",
    "        for col in xrange(rows):\n",
    "             t_M[row][col] = M[col][row]\n",
    "                \n",
    "    return t_M"
   ]
  },
  {
   "cell_type": "code",
   "execution_count": 70,
   "metadata": {},
   "outputs": [
    {
     "name": "stderr",
     "output_type": "stream",
     "text": [
      ".\n",
      "----------------------------------------------------------------------\n",
      "Ran 1 test in 0.020s\n",
      "\n",
      "OK\n"
     ]
    }
   ],
   "source": [
    "# run following code to test your transpose function\n",
    "%run -i -e test.py LinearRegressionTestCase.test_transpose"
   ]
  },
  {
   "cell_type": "markdown",
   "metadata": {},
   "source": [
    "## 1.5 compute AB. return None if the dimensions don't match"
   ]
  },
  {
   "cell_type": "code",
   "execution_count": 11,
   "metadata": {
    "collapsed": true
   },
   "outputs": [],
   "source": [
    "#TODO compute matrix multiplication AB, return None if the dimensions don't match\n",
    "def get_MxN_Matrix(m,n,x):\n",
    "    return [[x for i in range(m)] for j in range(n)]\n",
    "\n",
    "def matxMultiply(A, B):\n",
    "    rows_A = len(A)\n",
    "    cols_A = len(A[0])\n",
    "    rows_B = len(B)\n",
    "    cols_B = len(B[0]) \n",
    "    \n",
    "    if (cols_A != rows_B):\n",
    "        raise ValueError\n",
    "    \n",
    "    # Solution 1\n",
    "#     AB = get_MxN_Matrix(cols_B, rows_A, 0)\n",
    "#     for row in xrange(rows_A):\n",
    "#         for col in xrange(cols_B):\n",
    "#             for index in xrange(cols_A):\n",
    "#                 AB[row][col] += A[row][index]*B[index][col]\n",
    "             \n",
    "    # Solution 2\n",
    "    AB = [[(sum(a*b for a,b in zip(tuple_A, tuple_B))) \n",
    "           for tuple_B in zip(*B)] \n",
    "              for tuple_A in A]\n",
    "    \n",
    "    return AB"
   ]
  },
  {
   "cell_type": "code",
   "execution_count": 12,
   "metadata": {},
   "outputs": [
    {
     "name": "stderr",
     "output_type": "stream",
     "text": [
      ".\n",
      "----------------------------------------------------------------------\n",
      "Ran 1 test in 0.094s\n",
      "\n",
      "OK\n"
     ]
    }
   ],
   "source": [
    "# run following code to test your matxMultiply function\n",
    "%run -i -e test.py LinearRegressionTestCase.test_matxMultiply"
   ]
  },
  {
   "cell_type": "markdown",
   "metadata": {},
   "source": [
    "---\n",
    "\n",
    "# 2 Gaussian Jordan Elimination\n",
    "\n",
    "## 2.1 Compute augmented Matrix \n",
    "\n",
    "$ A = \\begin{bmatrix}\n",
    "    a_{11}    & a_{12} & ... & a_{1n}\\\\\n",
    "    a_{21}    & a_{22} & ... & a_{2n}\\\\\n",
    "    a_{31}    & a_{22} & ... & a_{3n}\\\\\n",
    "    ...    & ... & ... & ...\\\\\n",
    "    a_{n1}    & a_{n2} & ... & a_{nn}\\\\\n",
    "\\end{bmatrix} , b = \\begin{bmatrix}\n",
    "    b_{1}  \\\\\n",
    "    b_{2}  \\\\\n",
    "    b_{3}  \\\\\n",
    "    ...    \\\\\n",
    "    b_{n}  \\\\\n",
    "\\end{bmatrix}$\n",
    "\n",
    "Return $ Ab = \\begin{bmatrix}\n",
    "    a_{11}    & a_{12} & ... & a_{1n} & b_{1}\\\\\n",
    "    a_{21}    & a_{22} & ... & a_{2n} & b_{2}\\\\\n",
    "    a_{31}    & a_{22} & ... & a_{3n} & b_{3}\\\\\n",
    "    ...    & ... & ... & ...& ...\\\\\n",
    "    a_{n1}    & a_{n2} & ... & a_{nn} & b_{n} \\end{bmatrix}$"
   ]
  },
  {
   "cell_type": "code",
   "execution_count": 81,
   "metadata": {
    "collapsed": true
   },
   "outputs": [],
   "source": [
    "# construct the augment matrix of matrix A and column vector b, assuming A and b have same number of rows\n",
    "def get_MxN_Matrix(m,n,x):\n",
    "    return [[x for i in range(m)] for j in range(n)]\n",
    "\n",
    "import copy\n",
    "\n",
    "def augmentMatrix(A, b):\n",
    "    # Solution 1: Running Time = 0.013s\n",
    "    rows = len(A)\n",
    "    cols = len(A[0]) + len(b[0])\n",
    "    Ab = get_MxN_Matrix(cols, rows, 0)\n",
    "    for i in xrange(rows):\n",
    "        for j in xrange(cols):\n",
    "            if j==(cols-1):\n",
    "                Ab[i][j] = b[i][0]\n",
    "            else:\n",
    "                Ab[i][j] = A[i][j]\n",
    "    \n",
    "    # Solution 2: Running Time = 0.026s\n",
    "#     Ab = copy.deepcopy(A)\n",
    "#     for i in xrange(len(Ab)):\n",
    "#         Ab[i].append(b[i][0])\n",
    "    \n",
    "    return Ab"
   ]
  },
  {
   "cell_type": "code",
   "execution_count": 82,
   "metadata": {},
   "outputs": [
    {
     "name": "stderr",
     "output_type": "stream",
     "text": [
      ".\n",
      "----------------------------------------------------------------------\n",
      "Ran 1 test in 0.013s\n",
      "\n",
      "OK\n"
     ]
    }
   ],
   "source": [
    "# run following code to test your augmentMatrix function\n",
    "%run -i -e test.py LinearRegressionTestCase.test_augmentMatrix"
   ]
  },
  {
   "cell_type": "markdown",
   "metadata": {},
   "source": [
    "## 2.2 Basic row operations\n",
    "- exchange two rows\n",
    "- scale a row\n",
    "- add a scaled row to another"
   ]
  },
  {
   "cell_type": "code",
   "execution_count": 3,
   "metadata": {
    "collapsed": true
   },
   "outputs": [],
   "source": [
    "# TODO r1 <---> r2\n",
    "# TODO in-place operation, no return value\n",
    "def swapRows(M, r1, r2):\n",
    "    if r1==r2:\n",
    "        return\n",
    "    \n",
    "    l = M[r1]\n",
    "    M[r1] = M[r2]\n",
    "    M[r2] = l"
   ]
  },
  {
   "cell_type": "code",
   "execution_count": 4,
   "metadata": {},
   "outputs": [
    {
     "name": "stderr",
     "output_type": "stream",
     "text": [
      ".\n",
      "----------------------------------------------------------------------\n",
      "Ran 1 test in 0.003s\n",
      "\n",
      "OK\n"
     ]
    }
   ],
   "source": [
    "# run following code to test your swapRows function\n",
    "%run -i -e test.py LinearRegressionTestCase.test_swapRows"
   ]
  },
  {
   "cell_type": "code",
   "execution_count": 87,
   "metadata": {
    "collapsed": true
   },
   "outputs": [],
   "source": [
    "# TODO r1 <--- r1 * scale\n",
    "# TODO in-place operation, no return value\n",
    "def scaleRow(M, r, scale):\n",
    "    if scale == 0:\n",
    "        raise ValueError\n",
    "        \n",
    "    for i in xrange(len(M[r])):\n",
    "        M[r][i] *= scale"
   ]
  },
  {
   "cell_type": "code",
   "execution_count": 88,
   "metadata": {},
   "outputs": [
    {
     "name": "stderr",
     "output_type": "stream",
     "text": [
      ".\n",
      "----------------------------------------------------------------------\n",
      "Ran 1 test in 0.004s\n",
      "\n",
      "OK\n"
     ]
    }
   ],
   "source": [
    "# run following code to test your scaleRow function\n",
    "%run -i -e test.py LinearRegressionTestCase.test_scaleRow"
   ]
  },
  {
   "cell_type": "code",
   "execution_count": 1,
   "metadata": {
    "collapsed": true
   },
   "outputs": [],
   "source": [
    "# TODO r1 <--- r1 + r2*scale\n",
    "# TODO in-place operation, no return value\n",
    "def addScaledRow(M, r1, r2, scale):\n",
    "    if scale == 0:\n",
    "        raise ValueError\n",
    "        \n",
    "    for i in xrange(len(M[r1])):\n",
    "        M[r1][i] += M[r2][i]*scale"
   ]
  },
  {
   "cell_type": "code",
   "execution_count": null,
   "metadata": {
    "collapsed": true
   },
   "outputs": [],
   "source": [
    "# run following code to test your addScaledRow function\n",
    "%run -i -e test.py LinearRegressionTestCase.test_addScaledRow"
   ]
  },
  {
   "cell_type": "markdown",
   "metadata": {},
   "source": [
    "## 2.3  Gauss-jordan method to solve Ax = b\n",
    "\n",
    "### Hint：\n",
    "\n",
    "Step 1: Check if A and b have same number of rows  \n",
    "Step 2: Construct augmented matrix Ab\n",
    "\n",
    "Step 3: Column by column, transform Ab to reduced row echelon form [wiki link](https://en.wikipedia.org/wiki/Row_echelon_form#Reduced_row_echelon_form)\n",
    "    \n",
    "    for every column of Ab (except the last one)\n",
    "        column c is the current column\n",
    "        Find in column c, at diagonal and under diagonal (row c ~ N) the maximum absolute value\n",
    "        If the maximum absolute value is 0\n",
    "            then A is singular, return None （Prove this proposition in Question 2.4）\n",
    "        else\n",
    "            Apply row operation 1, swap the row of maximum with the row of diagonal element (row c)\n",
    "            Apply row operation 2, scale the diagonal element of column c to 1\n",
    "            Apply row operation 3 mutiple time, eliminate every other element in column c\n",
    "            \n",
    "Step 4: return the last column of Ab\n",
    "\n",
    "### Remark：\n",
    "We don't use the standard algorithm first transfering Ab to row echelon form and then to reduced row echelon form.  Instead, we arrives directly at reduced row echelon form. If you are familiar with the stardard way, try prove to yourself that they are equivalent. "
   ]
  },
  {
   "cell_type": "code",
   "execution_count": 7,
   "metadata": {
    "collapsed": true
   },
   "outputs": [],
   "source": [
    "#TODO implement gaussian jordan method to solve Ax = b\n",
    "\n",
    "\"\"\" Gauss-jordan method to solve x such that Ax = b.\n",
    "        A: square matrix, list of lists\n",
    "        b: column vector, list of lists\n",
    "        decPts: degree of rounding, default value 4\n",
    "        epsilon: threshold for zero, default value 1.0e-16\n",
    "        \n",
    "    return x such that Ax = b, list of lists \n",
    "    return None if A and b have different height\n",
    "    return None if A is (almost) singular\n",
    "\"\"\"\n",
    "from decimal import Decimal, getcontext\n",
    "\n",
    "getcontext().prec = 30\n",
    "\n",
    "# row operation 1\n",
    "def swapRows(M, r1, r2):\n",
    "    if r1 == r2:\n",
    "        return\n",
    "    \n",
    "    l = M[r1]\n",
    "    M[r1] = M[r2]\n",
    "    M[r2] = l\n",
    "\n",
    "    \n",
    "# row operation 2\n",
    "def scaleRow(M, r, scale):\n",
    "    if is_near_zero(scale):\n",
    "        raise ValueError\n",
    "        \n",
    "    for i in xrange(len(M[r])):\n",
    "        M[r][i] = Decimal(scale * M[r][i])\n",
    "\n",
    "\n",
    "# row operation 3\n",
    "def addScaledRow(M, r1, r2, scale):\n",
    "    if is_near_zero(scale):\n",
    "        raise ValueError\n",
    "        \n",
    "    for i in xrange(len(M[r1])):\n",
    "        M[r1][i] += Decimal(M[r2][i]*scale)\n",
    "\n",
    "\n",
    "def augmentMatrix(A, b):\n",
    "    # Solution 1: Running Time = 0.013s\n",
    "    rows = len(A)\n",
    "    cols = len(A[0]) + len(b[0])\n",
    "    Ab = get_RxC_Matrix(rows, cols, 0)\n",
    "    for i in xrange(rows):\n",
    "        for j in xrange(cols):\n",
    "            if j==(cols-1):\n",
    "                Ab[i][j] = b[i][0]\n",
    "            else:\n",
    "                Ab[i][j] = A[i][j]\n",
    "    return Ab\n",
    "\n",
    "\n",
    "def maxAbsIndex(matrix, col):\n",
    "    rows = len(matrix)\n",
    "    cols = len(matrix[0])\n",
    "    \n",
    "    if col >= cols:\n",
    "        return None\n",
    "    \n",
    "    maxAbs = 0\n",
    "    index = col\n",
    "    for i in xrange(col, rows):\n",
    "        currentAbs = abs(matrix[i][col])\n",
    "        if currentAbs > maxAbs:\n",
    "            maxAbs = currentAbs\n",
    "            index = i\n",
    "            \n",
    "    return maxAbs, index\n",
    "\n",
    "def get_RxC_Matrix(rows,cols,x):\n",
    "    return [[x for i in range(cols)] for j in range(rows)]\n",
    "\n",
    "def getLastCol(Ab, decPts=4):\n",
    "    rows = len(Ab)\n",
    "    lastCol = get_RxC_Matrix(rows,1,0)\n",
    "    for i in xrange(rows):\n",
    "        lastCol[i][0] = round(Ab[i][len(Ab[0])-1], decPts)\n",
    "    return lastCol\n",
    "\n",
    "def is_near_zero(value, epsilon = 1.0e-16):\n",
    "    return abs(value) < epsilon\n",
    "\n",
    "\n",
    "def gj_Solve(A, b, decPts=4, epsilon = 1.0e-16):\n",
    "    # Step 1: Check if A and b have same number of rows\n",
    "    if (len(A) != len(b)):\n",
    "        return None\n",
    "    \n",
    "    # Step 2: Construct augmented matrix Ab\n",
    "    Ab = augmentMatrix(A, b)\n",
    "    \n",
    "    # Step 3: Column by column, transform Ab to RREF(reduced row echelon form)\n",
    "    rows = len(A)\n",
    "    cols = len(A[0])\n",
    "    for col in xrange(cols):\n",
    "        # Find in column c, at diagonal and under diagonal (row c ~ N) the maximum absolute value\n",
    "        maxAbs, index = maxAbsIndex(Ab, col)\n",
    "        if is_near_zero(maxAbs, epsilon):\n",
    "            # If the maximum absolute value is 0, then A is singular, return None\n",
    "            return None\n",
    "        else:\n",
    "            # Apply row operation 1, swap the row of maximum with the row of diagonal element (row c)\n",
    "            swapRows(Ab, col, index)\n",
    "            \n",
    "            # Apply row operation 2, scale the diagonal element of column c to 1\n",
    "            scaleRow(Ab, col, Decimal(1.0)/Decimal(Ab[col][col]))\n",
    "            \n",
    "            # Apply row operation 3 mutiple time, eliminate every other element in column c\n",
    "            for scaleRowIndex in xrange(rows):\n",
    "                if scaleRowIndex == col:\n",
    "                    continue\n",
    "                \n",
    "                scale = Decimal(-Ab[scaleRowIndex][col])\n",
    "                if is_near_zero(scale):\n",
    "                    continue\n",
    "                else:\n",
    "                    addScaledRow(Ab, scaleRowIndex, col, scale)\n",
    "    x = getLastCol(Ab, decPts)\n",
    "    return x"
   ]
  },
  {
   "cell_type": "code",
   "execution_count": 8,
   "metadata": {},
   "outputs": [
    {
     "name": "stderr",
     "output_type": "stream",
     "text": [
      ".\n",
      "----------------------------------------------------------------------\n",
      "Ran 1 test in 1.900s\n",
      "\n",
      "OK\n"
     ]
    }
   ],
   "source": [
    "# run following code to test your addScaledRow function\n",
    "%run -i -e test.py LinearRegressionTestCase.test_gj_Solve"
   ]
  },
  {
   "cell_type": "markdown",
   "metadata": {},
   "source": [
    "## 2.4 Prove the following proposition:\n",
    "\n",
    "**If square matrix A can be divided into four parts: ** \n",
    "\n",
    "$ A = \\begin{bmatrix}\n",
    "    I    & X \\\\\n",
    "    Z    & Y \\\\\n",
    "\\end{bmatrix} $, where I is the identity matrix, Z is all zero and the first column of Y is all zero, \n",
    "\n",
    "**then A is singular.**\n",
    "\n",
    "Hint: There are mutiple ways to prove this problem.  \n",
    "- consider the rank of Y and A\n",
    "- consider the determinate of Y and A \n",
    "- consider certain column is the linear combination of other columns"
   ]
  },
  {
   "cell_type": "markdown",
   "metadata": {},
   "source": [
    "TODO Please use latex （refering to the latex in problem may help）\n",
    "\n",
    "TODO Proof：\n",
    "\n",
    "Since $ A = \\begin{bmatrix}\n",
    "    I    & X \\\\\n",
    "    Z    & Y \\\\\n",
    "\\end{bmatrix} $  , then \n",
    "$ |A| = \\begin{vmatrix}\n",
    "    I    & X \\\\ \n",
    "    Z    & Y \\\\\n",
    "\\end{vmatrix} $ \n",
    "= |IY| - |XZ|\n",
    "\n",
    "I is the identity matrix $\\rightarrow$ |IY| = |Y|.  \n",
    "Z is all zero $\\rightarrow$ |XZ| = 0.  \n",
    "Thus, |A| = |Y|  \n",
    "\n",
    "The first column of Y is all zero $\\rightarrow\n",
    "|Y|= \\begin{vmatrix}\n",
    "    0    & Y1 \\\\ \n",
    "    O    & Y2 \\\\\n",
    "\\end{vmatrix} = 0\\times|Y2|-|O||Y1|=0 \n",
    "\\rightarrow \n",
    "|A| = 0 \n",
    "\\rightarrow $ A is singular\n",
    "\n",
    "\n",
    "\n"
   ]
  },
  {
   "cell_type": "markdown",
   "metadata": {},
   "source": [
    "---\n",
    "\n",
    "# 3 Linear Regression: \n",
    "\n",
    "## 3.1 Compute the gradient of loss function with respect to parameters \n",
    "## (Choose one between two 3.1 questions)\n",
    "\n",
    "We define loss funtion $E$ as \n",
    "$$\n",
    "E(m, b) = \\sum_{i=1}^{n}{(y_i - mx_i - b)^2}\n",
    "$$\n",
    "and we define vertex $Y$, matrix $X$ and vertex $h$ :\n",
    "$$\n",
    "Y =  \\begin{bmatrix}\n",
    "    y_1 \\\\\n",
    "    y_2 \\\\\n",
    "    ... \\\\\n",
    "    y_n\n",
    "\\end{bmatrix}\n",
    ",\n",
    "X =  \\begin{bmatrix}\n",
    "    x_1 & 1 \\\\\n",
    "    x_2 & 1\\\\\n",
    "    ... & ...\\\\\n",
    "    x_n & 1 \\\\\n",
    "\\end{bmatrix},\n",
    "h =  \\begin{bmatrix}\n",
    "    m \\\\\n",
    "    b \\\\\n",
    "\\end{bmatrix}\n",
    "$$\n",
    "\n",
    "\n",
    "Proves that \n",
    "$$\n",
    "\\frac{\\partial E}{\\partial m} = \\sum_{i=1}^{n}{-2x_i(y_i - mx_i - b)}\n",
    "$$\n",
    "\n",
    "$$\n",
    "\\frac{\\partial E}{\\partial b} = \\sum_{i=1}^{n}{-2(y_i - mx_i - b)}\n",
    "$$\n",
    "\n",
    "$$\n",
    "\\begin{bmatrix}\n",
    "    \\frac{\\partial E}{\\partial m} \\\\\n",
    "    \\frac{\\partial E}{\\partial b} \n",
    "\\end{bmatrix} = 2X^TXh - 2X^TY\n",
    "$$"
   ]
  },
  {
   "cell_type": "markdown",
   "metadata": {},
   "source": [
    "TODO Please use latex （refering to the latex in problem may help）\n",
    "\n",
    "TODO Proof："
   ]
  },
  {
   "cell_type": "markdown",
   "metadata": {},
   "source": [
    "## 3.1 Compute the gradient of loss function with respect to parameters \n",
    "## (Choose one between two 3.1 questions)\n",
    "We define loss funtion $E$ as \n",
    "$$\n",
    "E(m, b) = \\sum_{i=1}^{n}{(y_i - mx_i - b)^2}\n",
    "$$\n",
    "and we define vertex $Y$, matrix $X$ and vertex $h$ :\n",
    "$$\n",
    "Y =  \\begin{bmatrix}\n",
    "    y_1 \\\\\n",
    "    y_2 \\\\\n",
    "    ... \\\\\n",
    "    y_n\n",
    "\\end{bmatrix}\n",
    ",\n",
    "X =  \\begin{bmatrix}\n",
    "    x_1 & 1 \\\\\n",
    "    x_2 & 1\\\\\n",
    "    ... & ...\\\\\n",
    "    x_n & 1 \\\\\n",
    "\\end{bmatrix},\n",
    "h =  \\begin{bmatrix}\n",
    "    m \\\\\n",
    "    b \\\\\n",
    "\\end{bmatrix}\n",
    "$$\n",
    "\n",
    "Proves that \n",
    "$$\n",
    "E = Y^TY -2(Xh)^TY + (Xh)^TXh\n",
    "$$\n",
    "\n",
    "$$\n",
    "\\frac{\\partial E}{\\partial h} = 2X^TXh - 2X^TY\n",
    "$$"
   ]
  },
  {
   "cell_type": "markdown",
   "metadata": {},
   "source": [
    "TODO Please use latex （refering to the latex in problem may help）\n",
    "\n",
    "TODO Proof："
   ]
  },
  {
   "cell_type": "markdown",
   "metadata": {},
   "source": [
    "## 3.2  Linear Regression\n",
    "### Solve equation $X^TXh = X^TY $ to compute the best parameter for linear regression."
   ]
  },
  {
   "cell_type": "code",
   "execution_count": null,
   "metadata": {
    "collapsed": true
   },
   "outputs": [],
   "source": [
    "#TODO implement linear regression \n",
    "'''\n",
    "points: list of (x,y) tuple\n",
    "return m and b\n",
    "'''\n",
    "def linearRegression(points):\n",
    "    return 0,0"
   ]
  },
  {
   "cell_type": "markdown",
   "metadata": {},
   "source": [
    "## 3.3 Test your linear regression implementation"
   ]
  },
  {
   "cell_type": "code",
   "execution_count": null,
   "metadata": {
    "collapsed": true
   },
   "outputs": [],
   "source": [
    "#TODO Construct the linear function\n",
    "\n",
    "#TODO Construct points with gaussian noise\n",
    "import random\n",
    "\n",
    "#TODO Compute m and b and compare with ground truth"
   ]
  }
 ],
 "metadata": {
  "anaconda-cloud": {},
  "celltoolbar": "Raw Cell Format",
  "kernelspec": {
   "display_name": "Python 2",
   "language": "python",
   "name": "python2"
  },
  "language_info": {
   "codemirror_mode": {
    "name": "ipython",
    "version": 2
   },
   "file_extension": ".py",
   "mimetype": "text/x-python",
   "name": "python",
   "nbconvert_exporter": "python",
   "pygments_lexer": "ipython2",
   "version": "2.7.14"
  }
 },
 "nbformat": 4,
 "nbformat_minor": 2
}
